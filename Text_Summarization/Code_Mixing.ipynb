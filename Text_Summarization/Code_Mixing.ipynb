{
  "nbformat": 4,
  "nbformat_minor": 0,
  "metadata": {
    "colab": {
      "name": "Code_Mixing.ipynb",
      "provenance": [],
      "collapsed_sections": []
    },
    "kernelspec": {
      "name": "python3",
      "display_name": "Python 3"
    },
    "language_info": {
      "name": "python"
    },
    "accelerator": "GPU"
  },
  "cells": [
    {
      "cell_type": "code",
      "execution_count": null,
      "metadata": {
        "id": "0uQOgZy2XM7-"
      },
      "outputs": [],
      "source": [
        "!pip install textblob\n",
        "!python textblob.download_corpora\n",
        "import nltk\n",
        "nltk.download('punkt')\n",
        "nltk.download('wordnet')\n",
        "nltk.download('brown')\n",
        "nltk.download('punkt')\n",
        "!pip install googletrans==3.1.0a0"
      ]
    },
    {
      "cell_type": "markdown",
      "source": [
        "Importing TextBlob and googleTrans"
      ],
      "metadata": {
        "id": "2tjUErXJTAF6"
      }
    },
    {
      "cell_type": "code",
      "source": [
        "from textblob import TextBlob\n",
        "from googletrans import Translator\n",
        "translator = Translator()  \n",
        "from nltk.tokenize.treebank import TreebankWordDetokenizer"
      ],
      "metadata": {
        "id": "WzPH0b30lmOe"
      },
      "execution_count": null,
      "outputs": []
    },
    {
      "cell_type": "markdown",
      "source": [
        "Extracting Words and Sentences from the text (tokenization of the input)"
      ],
      "metadata": {
        "id": "OjlBnPbOTJfs"
      }
    },
    {
      "cell_type": "code",
      "source": [
        "input = \"My name is Pranav. How are you. Kaha ja rhe ho. Hello what are you doing. Kya kar rhe ho. what are you doing मेरा नाम प्रणव है। क्या हाल है। आप कहाँ हैं।\"\n",
        "# input = \"मेरा नाम प्रणव है। क्या हाल है। आप कहाँ हैं।\"\n",
        "detected_lang = translator.detect(input)\n",
        "temp = TextBlob(input)\n",
        "tokens = temp.words\n",
        "ngrams = temp.ngrams(n=3)\n",
        "sentences = temp.sentences"
      ],
      "metadata": {
        "id": "lPZF-BuvvPCD"
      },
      "execution_count": null,
      "outputs": []
    },
    {
      "cell_type": "markdown",
      "source": [
        "Detect Language word wise and translate word wise."
      ],
      "metadata": {
        "id": "hW_BTRwNTbnH"
      }
    },
    {
      "cell_type": "code",
      "source": [
        "langs = translator.detect(tokens)\n",
        "i = 0;\n",
        "previous = \"en\"\n",
        "present = \"en\"\n",
        "\n",
        "for lang in langs:\n",
        "    if(lang.lang != 'en'):\n",
        "        temp = translator.translate(tokens[i],'en').text\n",
        "        tokens[i]= temp\n",
        "    i = i+1\n",
        "\n",
        "final_input = TreebankWordDetokenizer().detokenize(tokens)\n",
        "print(final_input)"
      ],
      "metadata": {
        "id": "C-h-HmD_ppbC",
        "colab": {
          "base_uri": "https://localhost:8080/"
        },
        "outputId": "0dddd9de-8b4f-408d-fb96-9e129d9a250e"
      },
      "execution_count": null,
      "outputs": [
        {
          "output_type": "stream",
          "name": "stdout",
          "text": [
            "My name is Pranav How are you said and are Supplement Hello what are you doing What kar are Supplement what are you doing My Name Pranav Is. What Condition Is. You Where are..mi Name is Pranav What are\n"
          ]
        }
      ]
    },
    {
      "cell_type": "markdown",
      "source": [
        "Detecting the language change boundaries from word tokens "
      ],
      "metadata": {
        "id": "SP4jwObqTp0Y"
      }
    },
    {
      "cell_type": "code",
      "source": [
        "j = 0;\n",
        "previous = \"en\"\n",
        "present = \"en\"\n",
        "boundaries = []\n",
        "for lang in langs:\n",
        "    present = lang.lang\n",
        "    if(previous != present):\n",
        "        boundaries.append(j)\n",
        "    j = j+1\n",
        "    previous = lang.lang\n",
        "\n",
        "print(boundaries)"
      ],
      "metadata": {
        "colab": {
          "base_uri": "https://localhost:8080/"
        },
        "id": "Y6Rhfx_HyZkg",
        "outputId": "fa189b87-c3c6-41ca-ec7b-278a479331b4"
      },
      "execution_count": null,
      "outputs": [
        {
          "output_type": "stream",
          "name": "stdout",
          "text": [
            "[3, 4, 7, 8, 9, 10, 11, 16, 17, 18, 19, 20, 24, 34, 35, 36, 37, 38]\n"
          ]
        }
      ]
    },
    {
      "cell_type": "code",
      "source": [
        "i=0\n",
        "lang_bound = []\n",
        "length = len(langs)\n",
        "while(i < length):\n",
        "    if(langs[i].lang == 'en'):\n",
        "        i= i+1\n",
        "        continue\n",
        "    else:\n",
        "        temp = langs[i].lang\n",
        "        start = i\n",
        "        while( (i < length) and (temp == langs[i].lang)):\n",
        "            i = i+1 \n",
        "        end = i\n",
        "        lang_bound.append((start,end))\n",
        "print(lang_bound)"
      ],
      "metadata": {
        "colab": {
          "base_uri": "https://localhost:8080/"
        },
        "id": "Hrndp3_MUV70",
        "outputId": "c3e3aa9d-8919-4f2c-d962-f497ba2ced36"
      },
      "execution_count": null,
      "outputs": [
        {
          "output_type": "stream",
          "name": "stdout",
          "text": [
            "[(3, 4), (7, 8), (8, 9), (9, 10), (10, 11), (16, 17), (17, 18), (18, 19), (19, 20), (24, 34), (34, 35), (35, 36), (36, 37), (37, 38), (38, 39)]\n"
          ]
        }
      ]
    },
    {
      "cell_type": "markdown",
      "source": [
        "Detecting Language boundaries using ngrams"
      ],
      "metadata": {
        "id": "xqfh6bpsT7N4"
      }
    },
    {
      "cell_type": "code",
      "source": [
        "print(ngrams)\n",
        "k = 0\n",
        "for temp in ngrams:\n",
        "    ngrams[k] = ' '.join(ngrams[k])\n",
        "    k = k+1\n",
        "ngram_boundaries = []\n",
        "ngram_langs = translator.detect(ngrams)\n",
        "previous = \"en\"\n",
        "present = \"en\"\n",
        "j =0\n",
        "for lang in ngram_langs:\n",
        "    print(lang.lang)\n",
        "for lang in ngram_langs:\n",
        "    present = lang.lang\n",
        "    if(previous != present):\n",
        "       ngram_boundaries.append(j+2)\n",
        "    j = j+1\n",
        "    previous = lang.lang\n",
        "print(input)\n",
        "print(ngram_boundaries)"
      ],
      "metadata": {
        "id": "6U8CqbpV2je4",
        "colab": {
          "base_uri": "https://localhost:8080/"
        },
        "outputId": "705cebde-dd2c-451d-86ae-23aa0b644796"
      },
      "execution_count": null,
      "outputs": [
        {
          "output_type": "stream",
          "name": "stdout",
          "text": [
            "[WordList(['My', 'name', 'is']), WordList(['name', 'is', 'Pranav']), WordList(['is', 'Pranav', 'How']), WordList(['Pranav', 'How', 'are']), WordList(['How', 'are', 'you']), WordList(['are', 'you', 'Kaha']), WordList(['you', 'Kaha', 'ja']), WordList(['Kaha', 'ja', 'rhe']), WordList(['ja', 'rhe', 'ho']), WordList(['rhe', 'ho', 'Hello']), WordList(['ho', 'Hello', 'what']), WordList(['Hello', 'what', 'are']), WordList(['what', 'are', 'you']), WordList(['are', 'you', 'doing']), WordList(['you', 'doing', 'Kya']), WordList(['doing', 'Kya', 'kar']), WordList(['Kya', 'kar', 'rhe']), WordList(['kar', 'rhe', 'ho']), WordList(['rhe', 'ho', 'what']), WordList(['ho', 'what', 'are']), WordList(['what', 'are', 'you']), WordList(['are', 'you', 'doing']), WordList(['you', 'doing', 'मेरा']), WordList(['doing', 'मेरा', 'नाम']), WordList(['मेरा', 'नाम', 'प्रणव']), WordList(['नाम', 'प्रणव', 'है।']), WordList(['प्रणव', 'है।', 'क्या']), WordList(['है।', 'क्या', 'हाल']), WordList(['क्या', 'हाल', 'है।']), WordList(['हाल', 'है।', 'आप']), WordList(['है।', 'आप', 'कहाँ']), WordList(['आप', 'कहाँ', 'हैं।'])]\n",
            "en\n",
            "en\n",
            "en\n",
            "en\n",
            "en\n",
            "en\n",
            "fi\n",
            "hi\n",
            "hi\n",
            "hi\n",
            "en\n",
            "en\n",
            "en\n",
            "en\n",
            "en\n",
            "hi\n",
            "hi\n",
            "hi\n",
            "hi\n",
            "en\n",
            "en\n",
            "en\n",
            "en\n",
            "hi\n",
            "hi\n",
            "hi\n",
            "hi\n",
            "hi\n",
            "hi\n",
            "hi\n",
            "hi\n",
            "hi\n",
            "My name is Pranav. How are you. Kaha ja rhe ho. Hello what are you doing. Kya kar rhe ho. what are you doing मेरा नाम प्रणव है। क्या हाल है। आप कहाँ हैं।\n",
            "[8, 9, 12, 17, 21, 25]\n"
          ]
        }
      ]
    },
    {
      "cell_type": "code",
      "source": [
        "i=0\n",
        "for lang in ngram_langs:\n",
        "    print(lang)\n",
        "ngram_lang_bound = []\n",
        "length = len(ngram_langs)\n",
        "while(i < length):\n",
        "    if(ngram_langs[i].lang == 'en'):\n",
        "        i= i+1\n",
        "        continue\n",
        "    else:\n",
        "        temp = ngram_langs[i].lang\n",
        "        if(ngram_langs[i].confidence != 1) :\n",
        "            i = i+1\n",
        "            continue\n",
        "        start = i\n",
        "        while( (i < length) and (temp == ngram_langs[i].lang)):\n",
        "            i = i+1 \n",
        "        end = i-1\n",
        "        ngram_lang_bound.append((start,end))\n",
        "print(ngram_lang_bound)"
      ],
      "metadata": {
        "colab": {
          "base_uri": "https://localhost:8080/"
        },
        "id": "c3XLajYnKFeL",
        "outputId": "768e0444-f9ab-48ae-a0db-a0d4b0103972"
      },
      "execution_count": null,
      "outputs": [
        {
          "output_type": "stream",
          "name": "stdout",
          "text": [
            "Detected(lang=en, confidence=1)\n",
            "Detected(lang=en, confidence=1)\n",
            "Detected(lang=en, confidence=0.9879023)\n",
            "Detected(lang=en, confidence=0.91302586)\n",
            "Detected(lang=en, confidence=1)\n",
            "Detected(lang=en, confidence=0.79735124)\n",
            "Detected(lang=fi, confidence=0.6673526)\n",
            "Detected(lang=hi, confidence=1)\n",
            "Detected(lang=hi, confidence=1)\n",
            "Detected(lang=hi, confidence=1)\n",
            "Detected(lang=en, confidence=0.9572073)\n",
            "Detected(lang=en, confidence=1)\n",
            "Detected(lang=en, confidence=1)\n",
            "Detected(lang=en, confidence=1)\n",
            "Detected(lang=en, confidence=1)\n",
            "Detected(lang=hi, confidence=1)\n",
            "Detected(lang=hi, confidence=1)\n",
            "Detected(lang=hi, confidence=1)\n",
            "Detected(lang=hi, confidence=0.7126206)\n",
            "Detected(lang=en, confidence=1)\n",
            "Detected(lang=en, confidence=1)\n",
            "Detected(lang=en, confidence=1)\n",
            "Detected(lang=en, confidence=0.85656154)\n",
            "Detected(lang=hi, confidence=1)\n",
            "Detected(lang=hi, confidence=1)\n",
            "Detected(lang=hi, confidence=1)\n",
            "Detected(lang=hi, confidence=1)\n",
            "Detected(lang=hi, confidence=1)\n",
            "Detected(lang=hi, confidence=1)\n",
            "Detected(lang=hi, confidence=1)\n",
            "Detected(lang=hi, confidence=1)\n",
            "Detected(lang=hi, confidence=1)\n",
            "[(7, 9), (15, 18), (23, 31)]\n"
          ]
        }
      ]
    },
    {
      "cell_type": "markdown",
      "source": [
        "Translate input sentence wise to english"
      ],
      "metadata": {
        "id": "7XfSXpXdUemK"
      }
    },
    {
      "cell_type": "code",
      "source": [
        "print(sentences)"
      ],
      "metadata": {
        "colab": {
          "base_uri": "https://localhost:8080/"
        },
        "id": "Oo-iVPtSgyen",
        "outputId": "57a35439-b03f-418a-bd6f-8b43dc7cc7d5"
      },
      "execution_count": null,
      "outputs": [
        {
          "output_type": "stream",
          "name": "stdout",
          "text": [
            "[Sentence(\"My name is Pranav.\"), Sentence(\"How are you.\"), Sentence(\"Kaha ja rhe ho.\"), Sentence(\"Hello what are you doing.\"), Sentence(\"Kya kar rhe ho.\"), Sentence(\"what are you doing मेरा नाम प्रणव है। क्या हाल है। आप कहाँ हैं।.mi nombre es pranav como estas\")]\n"
          ]
        }
      ]
    },
    {
      "cell_type": "code",
      "source": [
        "sentence_lang = translator.detect(sentences)\n",
        "i =0;\n",
        "for lang in sentence_lang:\n",
        "    if lang.lang != \"en\":\n",
        "        sentences[i]  = (translator.translate(sentences[i],\"en\").text)\n",
        "    else:\n",
        "        sentences[i] = str(sentences[i])\n",
        "    i = i+1"
      ],
      "metadata": {
        "id": "fV_sUYgLB8mO"
      },
      "execution_count": null,
      "outputs": []
    },
    {
      "cell_type": "code",
      "source": [
        "print(sentences)"
      ],
      "metadata": {
        "colab": {
          "base_uri": "https://localhost:8080/"
        },
        "id": "DCKUB2kred4s",
        "outputId": "45aef0d0-99e0-4479-8f75-d06ba869e3ff"
      },
      "execution_count": null,
      "outputs": [
        {
          "output_type": "stream",
          "name": "stdout",
          "text": [
            "['My name is Pranav.', 'How are you.', 'Where are you going.', 'Hello what are you doing.', 'What are you doing.', 'what are you doing my name is pranav. How are you. Where are you.']\n"
          ]
        }
      ]
    },
    {
      "cell_type": "code",
      "source": [
        "final_input_sentence = TreebankWordDetokenizer().detokenize(sentences)\n",
        "print(final_input_sentence)"
      ],
      "metadata": {
        "id": "5eYNP86JfHUp",
        "colab": {
          "base_uri": "https://localhost:8080/"
        },
        "outputId": "1367c953-5e5c-4cc6-b61b-4f23d62a07e7"
      },
      "execution_count": null,
      "outputs": [
        {
          "output_type": "stream",
          "name": "stdout",
          "text": [
            "My name is Pranav. How are you. Where are you going. Hello what are you doing. What are you doing. what are you doing my name is pranav. How are you. Where are you.\n"
          ]
        }
      ]
    },
    {
      "cell_type": "markdown",
      "source": [
        "Text Summarization Model"
      ],
      "metadata": {
        "id": "j9TjtVv2QwtM"
      }
    },
    {
      "cell_type": "code",
      "source": [
        "!pip install transformers\n",
        "!pip install newspaper3k\n",
        "!pip install streamlit"
      ],
      "metadata": {
        "id": "_FWlpwLQRJtV"
      },
      "execution_count": null,
      "outputs": []
    },
    {
      "cell_type": "code",
      "source": [
        "import os\n",
        "from transformers import BartTokenizer, BartForConditionalGeneration\n",
        "from transformers import PegasusForConditionalGeneration, PegasusTokenizer\n",
        "import torch\n",
        "if torch.cuda.is_available():\n",
        "   device = torch.device(\"cuda\")\n",
        "else:\n",
        "   device = torch.device(\"cuda\")"
      ],
      "metadata": {
        "id": "M_PY5qvpRD2i"
      },
      "execution_count": null,
      "outputs": []
    },
    {
      "cell_type": "code",
      "source": [
        "bart_model = BartForConditionalGeneration.from_pretrained(\"facebook/bart-large-cnn\").to(device)\n",
        "bart_tokenizer = BartTokenizer.from_pretrained(\"facebook/bart-large-cnn\")"
      ],
      "metadata": {
        "id": "sapY2TO8WkAd"
      },
      "execution_count": null,
      "outputs": []
    },
    {
      "cell_type": "code",
      "source": [
        "def run(input_text):\n",
        "    input_text = ' '.join(input_text.split())\n",
        "    input_tokenized = bart_tokenizer.encode(input_text, return_tensors='pt').to(device)\n",
        "    summary_ids = bart_model.generate(input_tokenized, num_beams = 4,num_return_sequences = 1, no_repeat_ngram_size = 2, length_penalty = 1,min_length = 12,max_length = 32, early_stopping = True)\n",
        "    output = [bart_tokenizer.decode(g, skip_special_tokens=True, clean_up_tokenization_spaces=False) for g in summary_ids]\n",
        "    print(output)"
      ],
      "metadata": {
        "id": "EG0__-zKVSLp"
      },
      "execution_count": null,
      "outputs": []
    },
    {
      "cell_type": "code",
      "source": [
        "run(final_input_sentence)"
      ],
      "metadata": {
        "id": "sLGFet7yQwCd"
      },
      "execution_count": null,
      "outputs": []
    },
    {
      "cell_type": "markdown",
      "source": [
        "Handling Chat Transcripts"
      ],
      "metadata": {
        "id": "WKjws-7kkHda"
      }
    },
    {
      "cell_type": "code",
      "source": [
        "from google.colab import files\n",
        "uploaded = files.upload()"
      ],
      "metadata": {
        "colab": {
          "resources": {
            "http://localhost:8080/nbextensions/google.colab/files.js": {
              "data": "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",
              "ok": true,
              "headers": [
                [
                  "content-type",
                  "application/javascript"
                ]
              ],
              "status": 200,
              "status_text": ""
            }
          },
          "base_uri": "https://localhost:8080/",
          "height": 74
        },
        "id": "fgt0cu5Mkzja",
        "outputId": "3ae6f8f0-c602-4ca5-d52d-94afbb14fb0c"
      },
      "execution_count": null,
      "outputs": [
        {
          "output_type": "display_data",
          "data": {
            "text/plain": [
              "<IPython.core.display.HTML object>"
            ],
            "text/html": [
              "\n",
              "     <input type=\"file\" id=\"files-e3ef40ed-ec18-4f8c-bd05-c9114c3df7bb\" name=\"files[]\" multiple disabled\n",
              "        style=\"border:none\" />\n",
              "     <output id=\"result-e3ef40ed-ec18-4f8c-bd05-c9114c3df7bb\">\n",
              "      Upload widget is only available when the cell has been executed in the\n",
              "      current browser session. Please rerun this cell to enable.\n",
              "      </output>\n",
              "      <script src=\"/nbextensions/google.colab/files.js\"></script> "
            ]
          },
          "metadata": {}
        },
        {
          "output_type": "stream",
          "name": "stdout",
          "text": [
            "Saving chat_transcript_1141609470361922.csv to chat_transcript_1141609470361922.csv\n"
          ]
        }
      ]
    },
    {
      "cell_type": "code",
      "source": [
        "import pandas as pd\n",
        "import io\n",
        " \n",
        "df = pd.read_csv(io.BytesIO(uploaded['chat_transcript_1141609470361922.csv']))\n",
        "print(df)"
      ],
      "metadata": {
        "colab": {
          "base_uri": "https://localhost:8080/"
        },
        "id": "Nf9dIAzOk22k",
        "outputId": "fc642c93-ead0-4852-e44b-dd22ac637fa4"
      },
      "execution_count": null,
      "outputs": [
        {
          "output_type": "stream",
          "name": "stdout",
          "text": [
            "                    SENDER         NAME  \\\n",
            "0    Auto Message To Agent          NaN   \n",
            "1   Auto Message To Client          NaN   \n",
            "2                    Agent      Support   \n",
            "3                    Agent      Support   \n",
            "4                   Client  Purushotham   \n",
            "5                   Client  Purushotham   \n",
            "6                    Agent      Support   \n",
            "7                    Agent      Support   \n",
            "8                   Client  Purushotham   \n",
            "9                    Agent      Support   \n",
            "10                   Agent      Support   \n",
            "11                   Agent      Support   \n",
            "12                  Client  Purushotham   \n",
            "13                  Client  Purushotham   \n",
            "14                   Agent      Support   \n",
            "15                   Agent      Support   \n",
            "\n",
            "                                              MESSAGE  TIME  \n",
            "0           Purushotham. Question: Address upsate? []  8:36  \n",
            "1               Support. Question: Address upsate? []  8:36  \n",
            "2                 Good morning .How may i assist you?  8:36  \n",
            "3                     May I know your proper concern?  8:36  \n",
            "4   I would like to update my home address kindly ...  8:36  \n",
            "5   I mean shifted house in the same apartment no ...  8:37  \n",
            "6           May I know you want to change your only ?  8:37  \n",
            "7                                           Address *  8:37  \n",
            "8                                       Yes only mine  8:37  \n",
            "9   You have need to visit gas agency and fill tra...  8:38  \n",
            "10  Proof of Identity  Proof of Current Address  S...  8:38  \n",
            "11                        Have you any further query?  8:38  \n",
            "12                                                 Ok  8:38  \n",
            "13                               No that's all thanks  8:39  \n",
            "14  Thanks you for contacting us Have a nice day. ...  8:39  \n",
            "15  Thanks you for contacting us<br>Have a nice da...  8:39  \n"
          ]
        }
      ]
    },
    {
      "cell_type": "code",
      "source": [
        "df_new = df[df.columns[[2]]]"
      ],
      "metadata": {
        "id": "uWBS7wq3lDU_"
      },
      "execution_count": null,
      "outputs": []
    },
    {
      "cell_type": "code",
      "source": [
        "print(df_new)"
      ],
      "metadata": {
        "colab": {
          "base_uri": "https://localhost:8080/"
        },
        "id": "c6bVaAY3lXAz",
        "outputId": "a432472f-12e1-45ac-85e9-5182b5d072c1"
      },
      "execution_count": null,
      "outputs": [
        {
          "output_type": "stream",
          "name": "stdout",
          "text": [
            "                                              MESSAGE\n",
            "0           Purushotham. Question: Address upsate? []\n",
            "1               Support. Question: Address upsate? []\n",
            "2                 Good morning .How may i assist you?\n",
            "3                     May I know your proper concern?\n",
            "4   I would like to update my home address kindly ...\n",
            "5   I mean shifted house in the same apartment no ...\n",
            "6           May I know you want to change your only ?\n",
            "7                                           Address *\n",
            "8                                       Yes only mine\n",
            "9   You have need to visit gas agency and fill tra...\n",
            "10  Proof of Identity  Proof of Current Address  S...\n",
            "11                        Have you any further query?\n",
            "12                                                 Ok\n",
            "13                               No that's all thanks\n",
            "14  Thanks you for contacting us Have a nice day. ...\n",
            "15  Thanks you for contacting us<br>Have a nice da...\n"
          ]
        }
      ]
    },
    {
      "cell_type": "code",
      "source": [
        "df_new = df_new.groupby('MESSAGE').apply(' '.join)\n",
        "print(df_new)"
      ],
      "metadata": {
        "colab": {
          "base_uri": "https://localhost:8080/"
        },
        "id": "tOnanUtylY8O",
        "outputId": "bddd2e5c-33a7-4eff-cde0-d0bc3d8f89e6"
      },
      "execution_count": null,
      "outputs": [
        {
          "output_type": "stream",
          "name": "stdout",
          "text": [
            "MESSAGE\n",
            " Purushotham. Question: Address upsate? []                                                                                                       MESSAGE\n",
            " Support. Question: Address upsate? []                                                                                                           MESSAGE\n",
            "Address *                                                                                                                                        MESSAGE\n",
            "Good morning .How may i assist you?                                                                                                              MESSAGE\n",
            "Have you any further query?                                                                                                                      MESSAGE\n",
            "I mean shifted house in the same apartment no how can I update my address                                                                        MESSAGE\n",
            "I would like to update my home address kindly let me know how can I do that online                                                               MESSAGE\n",
            "May I know you want to change your only ?                                                                                                        MESSAGE\n",
            "May I know your proper concern?                                                                                                                  MESSAGE\n",
            "No that's all thanks                                                                                                                             MESSAGE\n",
            "Ok                                                                                                                                               MESSAGE\n",
            "Proof of Identity  Proof of Current Address  SV (Subscription Voucher)  DGCC Book (Domestic Gas Consumer card)  KYC Form (Know Your Customer)    MESSAGE\n",
            "Thanks you for contacting us Have a nice day.  Feel free to contact us,  Toll free: 18002333555.                                                 MESSAGE\n",
            "Thanks you for contacting us<br>Have a nice day. <br>Feel free to contact us, <br>Toll free: 18002333555.                                        MESSAGE\n",
            "Yes only mine                                                                                                                                    MESSAGE\n",
            "You have need to visit gas agency and fill transfer form with required documents                                                                 MESSAGE\n",
            "dtype: object\n"
          ]
        }
      ]
    }
  ]
}